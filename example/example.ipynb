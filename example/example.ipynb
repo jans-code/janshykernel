{
 "cells": [
  {
   "cell_type": "markdown",
   "id": "f76c787f-2725-4ced-a6b0-df891945ce31",
   "metadata": {},
   "source": [
    "# Use the Hy REPL in a jupyter notebook!"
   ]
  },
  {
   "cell_type": "code",
   "execution_count": 1,
   "id": "e1f48e3e-019e-4e4c-854c-b30f4c58af44",
   "metadata": {
    "tags": []
   },
   "outputs": [
    {
     "name": "stdout",
     "output_type": "stream",
     "text": [
      "8\n"
     ]
    }
   ],
   "source": [
    "(+ 5 3)"
   ]
  },
  {
   "cell_type": "code",
   "execution_count": 2,
   "id": "09cdeb09-d761-4ee8-8316-5f8f7b7299bb",
   "metadata": {
    "tags": []
   },
   "outputs": [
    {
     "name": "stdout",
     "output_type": "stream",
     "text": [
      "952\n"
     ]
    }
   ],
   "source": [
    "(* 34 28)"
   ]
  },
  {
   "cell_type": "code",
   "execution_count": 3,
   "id": "72898c75-2ddc-4d74-830f-6876b6a44b8f",
   "metadata": {
    "tags": []
   },
   "outputs": [
    {
     "name": "stdout",
     "output_type": "stream",
     "text": [
      "2\n"
     ]
    }
   ],
   "source": [
    "(% 12 5)"
   ]
  },
  {
   "cell_type": "code",
   "execution_count": 4,
   "id": "9eecc85c-94d6-4caf-b200-fb6e9adcb1f1",
   "metadata": {},
   "outputs": [
    {
     "name": "stdout",
     "output_type": "stream",
     "text": [
      "[1, 2, None, 'x', ()]\n",
      "[1, 2, 3, 4, (5, 6, 7)]\n"
     ]
    }
   ],
   "source": [
    "(defn test [a b [c None] [d \"x\"] #* e] [a b c d e])\n",
    "(print (test 1 2))\n",
    "(print (test 1 2 3 4 5 6 7))"
   ]
  }
 ],
 "metadata": {
  "kernelspec": {
   "display_name": "Hy",
   "language": "",
   "name": "janshykernel"
  },
  "language_info": {
   "file_extension": ".hy",
   "mimetype": "application/hy",
   "name": "hy"
  }
 },
 "nbformat": 4,
 "nbformat_minor": 5
}
